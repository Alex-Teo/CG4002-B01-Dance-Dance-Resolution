{
 "cells": [
  {
   "cell_type": "code",
   "execution_count": 1,
   "metadata": {},
   "outputs": [
    {
     "data": {
      "application/javascript": "\ntry {\nrequire(['notebook/js/codecell'], function(codecell) {\n  codecell.CodeCell.options_default.highlight_modes[\n      'magic_text/x-csrc'] = {'reg':[/^%%microblaze/]};\n  Jupyter.notebook.events.one('kernel_ready.Kernel', function(){\n      Jupyter.notebook.get_cells().map(function(cell){\n          if (cell.cell_type == 'code'){ cell.auto_highlight(); } }) ;\n  });\n});\n} catch (e) {};\n"
     },
     "metadata": {},
     "output_type": "display_data"
    },
    {
     "data": {
      "application/javascript": "\ntry {\nrequire(['notebook/js/codecell'], function(codecell) {\n  codecell.CodeCell.options_default.highlight_modes[\n      'magic_text/x-csrc'] = {'reg':[/^%%pybind11/]};\n  Jupyter.notebook.events.one('kernel_ready.Kernel', function(){\n      Jupyter.notebook.get_cells().map(function(cell){\n          if (cell.cell_type == 'code'){ cell.auto_highlight(); } }) ;\n  });\n});\n} catch (e) {};\n"
     },
     "metadata": {},
     "output_type": "display_data"
    }
   ],
   "source": [
    "from pynq import allocate\n",
    "from pynq import Overlay\n",
    "import numpy as np\n",
    "import pynq.lib.dma\n",
    "import time\n",
    "import pynq\n",
    "import pandas as pd"
   ]
  },
  {
   "cell_type": "code",
   "execution_count": 2,
   "metadata": {},
   "outputs": [],
   "source": [
    "weight_0 = np.load('weights_final/weight_0.npy')\n",
    "weight_1 = np.load('weights_final/weight_1.npy')\n",
    "# weight_2 = np.load('weights_final/weight_2.npy')\n",
    "# weight_3 = np.load('weights_final/weight_3.npy')\n",
    "# weight_4 = np.load('weights_final/weight_4.npy')\n",
    "bias_0 = np.load('weights_final/bias_0.npy')\n",
    "bias_1 = np.load('weights_final/bias_1.npy')\n",
    "# bias_2 = np.load('weights_final/bias_2.npy')\n",
    "# bias_3 = np.load('weights_final/bias_3.npy')\n",
    "# bias_4 = np.load('weights_final/bias_4.npy')\n",
    "# weight_0_pos = np.load('weights_3dance_pos/weight_0.npy')\n",
    "# weight_1_pos = np.load('weights_3dance_pos/weight_1.npy')\n",
    "# weight_2_pos = np.load('weights_3dance_pos/weight_2.npy')\n",
    "# # weight_3_pos = np.load('weights_3dance_pos/weight_3.npy')\n",
    "# bias_0_pos = np.load('weights_3dance_pos/bias_0.npy')\n",
    "# bias_1_pos = np.load('weights_3dance_pos/bias_1.npy')\n",
    "# bias_2_pos = np.load('weights_3dance_pos/bias_2.npy')\n",
    "# bias_3_pos = np.load('weights_3dance_pos/bias_3.npy')\n",
    "scaler_mean = np.load('weights_final/mean.npy')\n",
    "scaler_scale = np.load('weights_final/scale.npy')\n",
    "scaler_mean_pos = np.load('weights_3dance_pos/scaler_mean.npy')\n",
    "scaler_scale_pos = np.load('weights_3dance_pos/scaler_scale.npy')"
   ]
  },
  {
   "cell_type": "code",
   "execution_count": 3,
   "metadata": {},
   "outputs": [],
   "source": [
    "df1 = pd.read_csv(\"dataset_3dance_pos/dancedata.csv\")\n",
    "y_training_pos = pd.Series(df1.LABEL).transpose()\n",
    "X_training_pos = df1.drop(['Unnamed: 0', 'LABEL'], axis=1).values\n",
    "X_training_pos = (X_training_pos - scaler_mean_pos) / scaler_scale_pos"
   ]
  },
  {
   "cell_type": "code",
   "execution_count": 4,
   "metadata": {},
   "outputs": [],
   "source": [
    "df = pd.read_csv(\"dataset_final/dancedata.csv\")\n",
    "y_training = pd.Series(df.LABEL).transpose()\n",
    "X_training = df.drop(['Unnamed: 0', 'LABEL'], axis=1).values\n",
    "X_training = (X_training - scaler_mean) / scaler_scale"
   ]
  },
  {
   "cell_type": "code",
   "execution_count": 5,
   "metadata": {},
   "outputs": [],
   "source": [
    "overlay = Overlay('final.bit')   # load bitstream inside FPGA\n",
    "dma = overlay.axi_dma_0    "
   ]
  },
  {
   "cell_type": "code",
   "execution_count": 6,
   "metadata": {},
   "outputs": [],
   "source": [
    "choose_model = allocate(shape=(1,), dtype=np.float32)\n",
    "input_buffer0 = allocate(shape=(100,), dtype=np.float32)\n",
    "input_buffer1 = allocate(shape=(128,), dtype=np.float32)\n",
    "input_buffer2 = allocate(shape=(12,), dtype=np.float32)\n",
    "input_buffer3 = allocate(shape=(32,), dtype=np.float32)\n",
    "input_buffer4 = allocate(shape=(3,), dtype=np.float32)\n",
    "output_buffer0 = allocate(shape=(12,), dtype=np.float32)\n",
    "output_buffer1 = allocate(shape=(3,), dtype=np.float32)"
   ]
  },
  {
   "cell_type": "code",
   "execution_count": 7,
   "metadata": {},
   "outputs": [],
   "source": [
    "##load dance weights\n",
    "for i in range(128):\n",
    "    for k in range(100):\n",
    "        input_buffer0[k] = weight_0[k][i]\n",
    "    dma.sendchannel.transfer(input_buffer0)\n",
    "    dma.sendchannel.wait()\n",
    "for i in range(128):\n",
    "    for k in range(128):\n",
    "        input_buffer1[k] = weight_1[k][i]\n",
    "    dma.sendchannel.transfer(input_buffer1)\n",
    "    dma.sendchannel.wait()\n",
    "for i in range(128):\n",
    "    for k in range(128):\n",
    "        input_buffer1[k] = weight_2[k][i]\n",
    "    dma.sendchannel.transfer(input_buffer1)\n",
    "    dma.sendchannel.wait()\n",
    "for i in range(128):\n",
    "    for k in range(128):\n",
    "        input_buffer1[k] = weight_3[k][i]\n",
    "    dma.sendchannel.transfer(input_buffer1)\n",
    "    dma.sendchannel.wait()\n",
    "for i in range(12):\n",
    "    for k in range(128):\n",
    "        input_buffer1[k] = weight_4[k][i]\n",
    "    dma.sendchannel.transfer(input_buffer1)\n",
    "    dma.sendchannel.wait()\n",
    "##bias\n",
    "for k in range(128):\n",
    "    input_buffer1[k] = bias_0[k]\n",
    "dma.sendchannel.transfer(input_buffer1)\n",
    "dma.sendchannel.wait()\n",
    "for k in range(128):\n",
    "    input_buffer1[k] = bias_1[k]\n",
    "dma.sendchannel.transfer(input_buffer1)\n",
    "dma.sendchannel.wait()\n",
    "for k in range(128):\n",
    "    input_buffer1[k] = bias_2[k]\n",
    "dma.sendchannel.transfer(input_buffer1)\n",
    "dma.sendchannel.wait()\n",
    "for k in range(128):\n",
    "    input_buffer1[k] = bias_3[k]\n",
    "dma.sendchannel.transfer(input_buffer1)\n",
    "dma.sendchannel.wait()\n",
    "for k in range(12):\n",
    "    input_buffer2[k] = bias_4[k]\n",
    "dma.sendchannel.transfer(input_buffer2)\n",
    "dma.sendchannel.wait()"
   ]
  },
  {
   "cell_type": "code",
   "execution_count": 8,
   "metadata": {},
   "outputs": [],
   "source": [
    "##load position weights\n",
    "for i in range(32):\n",
    "    for k in range(100):\n",
    "        input_buffer0[k] = weight_0_pos[k][i]\n",
    "    dma.sendchannel.transfer(input_buffer0)\n",
    "    dma.sendchannel.wait()\n",
    "for i in range(32):\n",
    "    for k in range(32):\n",
    "        input_buffer3[k] = weight_1_pos[k][i]\n",
    "    dma.sendchannel.transfer(input_buffer3)\n",
    "    dma.sendchannel.wait()\n",
    "for i in range(32):\n",
    "    for k in range(32):\n",
    "        input_buffer3[k] = weight_2_pos[k][i]\n",
    "    dma.sendchannel.transfer(input_buffer3)\n",
    "    dma.sendchannel.wait()\n",
    "for i in range(3):\n",
    "    for k in range(32):\n",
    "        input_buffer3[k] = weight_3_pos[k][i]\n",
    "    dma.sendchannel.transfer(input_buffer3)\n",
    "    dma.sendchannel.wait()\n",
    "##bias\n",
    "for k in range(32):\n",
    "    input_buffer3[k] = bias_0_pos[k]\n",
    "dma.sendchannel.transfer(input_buffer3)\n",
    "dma.sendchannel.wait()\n",
    "for k in range(32):\n",
    "    input_buffer3[k] = bias_1_pos[k]\n",
    "dma.sendchannel.transfer(input_buffer3)\n",
    "dma.sendchannel.wait()\n",
    "for k in range(32):\n",
    "    input_buffer3[k] = bias_2_pos[k]\n",
    "dma.sendchannel.transfer(input_buffer3)\n",
    "dma.sendchannel.wait()\n",
    "for k in range(3):\n",
    "    input_buffer4[k] = bias_3_pos[k]\n",
    "dma.sendchannel.transfer(input_buffer4)\n",
    "dma.sendchannel.wait()"
   ]
  },
  {
   "cell_type": "code",
   "execution_count": 9,
   "metadata": {},
   "outputs": [],
   "source": [
    "def fpga_evaluate_dance(test):\n",
    "    choose_model[0] = 0\n",
    "    dma.sendchannel.transfer(choose_model)\n",
    "    dma.sendchannel.wait()\n",
    "    for j in range(100):\n",
    "        input_buffer0[j] = test[j];\n",
    "    dma.sendchannel.transfer(input_buffer0)\n",
    "    dma.recvchannel.transfer(output_buffer0)\n",
    "    dma.sendchannel.wait()\n",
    "    dma.recvchannel.wait()\n",
    "    return output_buffer0"
   ]
  },
  {
   "cell_type": "code",
   "execution_count": 10,
   "metadata": {},
   "outputs": [],
   "source": [
    "def fpga_evaluate_pos(test):\n",
    "    choose_model[0] = 1\n",
    "    dma.sendchannel.transfer(choose_model)\n",
    "    dma.sendchannel.wait()\n",
    "    for j in range(100):\n",
    "        input_buffer0[j] = test[j];\n",
    "    dma.sendchannel.transfer(input_buffer0)\n",
    "    dma.recvchannel.transfer(output_buffer1)\n",
    "    dma.sendchannel.wait()\n",
    "    dma.recvchannel.wait()\n",
    "    return output_buffer1"
   ]
  },
  {
   "cell_type": "code",
   "execution_count": 11,
   "metadata": {},
   "outputs": [
    {
     "data": {
      "text/plain": [
       "(8351, 100)"
      ]
     },
     "execution_count": 11,
     "metadata": {},
     "output_type": "execute_result"
    }
   ],
   "source": [
    "X_training.shape"
   ]
  },
  {
   "cell_type": "code",
   "execution_count": 20,
   "metadata": {},
   "outputs": [],
   "source": [
    "fpga_res = np.zeros(12)\n",
    "for i in range(X_training.shape[0]):\n",
    "    fpga_res = np.row_stack((fpga_res, fpga_evaluate_dance(X_training[i])))\n",
    "fpga_res = fpga_res[1:]"
   ]
  },
  {
   "cell_type": "code",
   "execution_count": 21,
   "metadata": {},
   "outputs": [],
   "source": [
    "fpga_res = np.argmax(fpga_res, axis=-1)"
   ]
  },
  {
   "cell_type": "code",
   "execution_count": 22,
   "metadata": {},
   "outputs": [],
   "source": [
    "# labels =                                                                                                                       np.array(['dab', 'elbowkick', 'gun', 'hair', 'left', 'listen', 'pointhigh', 'right', 'sidepump', 'special', 'stationary', 'wipetable'])\n",
    "labels = np.array(['dab', 'cowboy', 'jamesbond', 'mermaid', 'pushback', 'scarecrow', 'snake', 'window360'])\n",
    "decoded_predictions = labels[fpga_res]"
   ]
  },
  {
   "cell_type": "code",
   "execution_count": null,
   "metadata": {},
   "outputs": [],
   "source": [
    "from IPython.display import display\n",
    "dataset = pd.DataFrame({'FPGA predictions': decoded_predictions, 'Actual test label': y_training}).reset_index(drop=True)\n",
    "pd.set_option('display.max_rows', 300)\n",
    "pd.set_option('display.height', 300)\n",
    "display(dataset)"
   ]
  },
  {
   "cell_type": "code",
   "execution_count": 24,
   "metadata": {},
   "outputs": [],
   "source": [
    "fpga_pos_res = np.zeros(3)\n",
    "for i in range(X_training_pos.shape[0]):\n",
    "    fpga_pos_res = np.row_stack((fpga_pos_res, fpga_evaluate_pos(X_training_pos[i])))\n",
    "fpga_pos_res = fpga_pos_res[1:]"
   ]
  },
  {
   "cell_type": "code",
   "execution_count": 25,
   "metadata": {},
   "outputs": [],
   "source": [
    "fpga_pos_res = np.argmax(fpga_pos_res, axis=-1)"
   ]
  },
  {
   "cell_type": "code",
   "execution_count": 26,
   "metadata": {},
   "outputs": [],
   "source": [
    "labels_pos = np.array(['left', 'right', 'stationary'])\n",
    "decoded_pos_predictions = labels_pos[fpga_pos_res]"
   ]
  },
  {
   "cell_type": "code",
   "execution_count": null,
   "metadata": {},
   "outputs": [],
   "source": [
    "from IPython.display import display\n",
    "dataset_pos = pd.DataFrame({'FPGA predictions': decoded_pos_predictions, 'Actual test label': y_training_pos}).reset_index(drop=True)\n",
    "pd.set_option('display.max_rows', 300)\n",
    "pd.set_option('display.height', 300)\n",
    "display(dataset_pos)"
   ]
  },
  {
   "cell_type": "code",
   "execution_count": null,
   "metadata": {},
   "outputs": [],
   "source": []
  }
 ],
 "metadata": {
  "kernelspec": {
   "display_name": "Python 3 (ipykernel)",
   "language": "python",
   "name": "python3"
  },
  "language_info": {
   "codemirror_mode": {
    "name": "ipython",
    "version": 3
   },
   "file_extension": ".py",
   "mimetype": "text/x-python",
   "name": "python",
   "nbconvert_exporter": "python",
   "pygments_lexer": "ipython3",
   "version": "3.9.7"
  }
 },
 "nbformat": 4,
 "nbformat_minor": 2
}
